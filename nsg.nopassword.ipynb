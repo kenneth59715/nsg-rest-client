{
 "cells": [
  {
   "cell_type": "code",
   "execution_count": 1,
   "metadata": {
    "collapsed": true
   },
   "outputs": [],
   "source": [
    "# This worked with python 3, with requests module installed\n",
    "# use port 8443 for production, 8444 for test\n",
    "# register at https://www.nsgportal.org/reg/reg.php for username and password\n",
    "CRA_USER = 'changeme'\n",
    "PASSWORD = 'changeme'\n",
    "# for development version:\n",
    "# log in at https://nsgr.sdsc.edu:8444/restusers/login.action\n",
    "# for production version:\n",
    "# log in at https://nsgr.sdsc.edu:8443/restusers/login.action\n",
    "# Tool names can be found at Developer->Documentation (Tools: How to Configure Specific Tools)\n",
    "# create a new application at Developer->Application Management (Create New Application)\n",
    "# save the Application Key for use in REST requests\n",
    "KEY = 'test1-D96E308858BB418CB50B5307391616BD'\n",
    "# for development version:\n",
    "# URL = 'https://nsgr.sdsc.edu:8444/cipresrest/v1'\n",
    "# for production version:\n",
    "URL = 'https://nsgr.sdsc.edu:8443/cipresrest/v1'\n",
    "TOOL = 'NEURON73_TG'\n"
   ]
  },
  {
   "cell_type": "code",
   "execution_count": 2,
   "metadata": {
    "collapsed": false,
    "scrolled": false
   },
   "outputs": [
    {
     "name": "stderr",
     "output_type": "stream",
     "text": [
      "<?xml version=\"1.0\" encoding=\"UTF-8\" standalone=\"yes\"?>\n",
      "<jobstatus>\n",
      "    <selfUri>\n",
      "        <url>https://nsgr.sdsc.edu:8443/cipresrest/v1/job/kenneth/NGBW-JOB-NEURON73_TG-7AF604008F314B43A331231E5A94C361</url>\n",
      "        <rel>jobstatus</rel>\n",
      "        <title>NGBW-JOB-NEURON73_TG-7AF604008F314B43A331231E5A94C361</title>\n",
      "    </selfUri>\n",
      "    <jobHandle>NGBW-JOB-NEURON73_TG-7AF604008F314B43A331231E5A94C361</jobHandle>\n",
      "    <jobStage>QUEUE</jobStage>\n",
      "    <terminalStage>false</terminalStage>\n",
      "    <failed>false</failed>\n",
      "    <metadata>\n",
      "        <entry>\n",
      "            <key>statusEmail</key>\n",
      "            <value>true</value>\n",
      "        </entry>\n",
      "    </metadata>\n",
      "    <dateSubmitted>2016-10-19T16:00:53-07:00</dateSubmitted>\n",
      "    <resultsUri>\n",
      "        <url>https://nsgr.sdsc.edu:8443/cipresrest/v1/job/kenneth/NGBW-JOB-NEURON73_TG-7AF604008F314B43A331231E5A94C361/output</url>\n",
      "        <rel>results</rel>\n",
      "        <title>Job Results</title>\n",
      "    </resultsUri>\n",
      "    <workingDirUri>\n",
      "        <url>https://nsgr.sdsc.edu:8443/cipresrest/v1/job/kenneth/NGBW-JOB-NEURON73_TG-7AF604008F314B43A331231E5A94C361/workingdir</url>\n",
      "        <rel>workingdir</rel>\n",
      "        <title>Job Working Directory</title>\n",
      "    </workingDirUri>\n",
      "    <messages>\n",
      "        <message>\n",
      "            <timestamp>2016-10-19T16:00:53-07:00</timestamp>\n",
      "            <stage>QUEUE</stage>\n",
      "            <text>Added to NSG run queue.</text>\n",
      "        </message>\n",
      "    </messages>\n",
      "    <minPollIntervalSeconds>60</minPollIntervalSeconds>\n",
      "</jobstatus>\n",
      "\n",
      "https://nsgr.sdsc.edu:8443/cipresrest/v1/job/kenneth\n",
      "https://nsgr.sdsc.edu:8443/cipresrest/v1/job/kenneth/NGBW-JOB-NEURON73_TG-7AF604008F314B43A331231E5A94C361/output\n",
      "https://nsgr.sdsc.edu:8443/cipresrest/v1/job/kenneth/NGBW-JOB-NEURON73_TG-7AF604008F314B43A331231E5A94C361\n",
      "Waiting for job to complete\n",
      "..........................................................\n",
      "Job completion detected, getting download URIs...Download complete.  Run the next cell.\n"
     ]
    }
   ],
   "source": [
    "%%capture --no-stderr submitoutput\n",
    "\n",
    "import os\n",
    "import requests\n",
    "import xml.etree.ElementTree\n",
    "import time\n",
    "import sys\n",
    "\n",
    "os.popen('pwd').read()\n",
    "os.popen('ls -ltr').read()\n",
    "headers = {'cipres-appkey' : KEY}\n",
    "payload = {'tool' : TOOL, 'metadata.statusEmail' : 'true', 'vparam.number_cores_' : 24, 'vparam.number_nodes_' : 2, 'vparam.runtime_' : 0.5, 'vparam.filename_': 'Batch.hoc', 'vparam.cmdlineopts_': '-c TSTOP=1'}\n",
    "files = {'input.infile_' : open('/media/john/scigap/nsgtest/JonesEtAl2009_r31.zip','rb')}\n",
    "\n",
    "r = requests.post('{}/job/{}'.format(URL, CRA_USER), auth=(CRA_USER, PASSWORD), data=payload, headers=headers, files=files)\n",
    "#print(r.text)\n",
    "\n",
    "root = xml.etree.ElementTree.fromstring(r.text)\n",
    "\n",
    "sys.stderr.write(\"%s\\n\" % r.text)\n",
    "sys.stderr.write(\"%s\\n\" % r.url)\n",
    "\n",
    "for child in root:\n",
    "    if child.tag == 'resultsUri':\n",
    "        for urlchild in child:\n",
    "            if urlchild.tag == 'url':\n",
    "                outputuri = urlchild.text\n",
    "    if child.tag == 'selfUri':\n",
    "        for urlchild in child:\n",
    "            if urlchild.tag == 'url':\n",
    "                selfuri = urlchild.text\n",
    "#print(outputuri,file=sys.stderr)\n",
    "sys.stderr.write(\"%s\\n\" % outputuri)\n",
    "#print(selfuri,file=sys.stderr)\n",
    "sys.stderr.write(\"%s\\n\" % selfuri)\n",
    "\n",
    "headers = {'cipres-appkey' : KEY}\n",
    "\n",
    "#print('Waiting for job to complete',file=sys.stderr)\n",
    "sys.stderr.write('Waiting for job to complete\\n')\n",
    "jobdone = 0\n",
    "while jobdone == 0:\n",
    "    r = requests.get(selfuri, auth=(CRA_USER, PASSWORD), headers=headers)\n",
    "    #print(r.text)\n",
    "    root = xml.etree.ElementTree.fromstring(r.text)\n",
    "    for child in root:\n",
    "        if child.tag == 'terminalStage':\n",
    "            jobstatus = child.text\n",
    "            if jobstatus == 'false':\n",
    "                time.sleep(5)\n",
    "                #print('.',file=sys.stderr,end='')\n",
    "                sys.stderr.write('.')\n",
    "            else:\n",
    "                jobdone = 1\n",
    "                #print('',file=sys.stderr,end='\\n')\n",
    "                sys.stderr.write('\\n')\n",
    "                break\n",
    "\n",
    "#print('Job completion detected, getting download URIs...',file=sys.stderr)\n",
    "sys.stderr.write('Job completion detected, getting download URIs...')\n",
    "r = requests.get(outputuri,\n",
    "                 headers= headers, auth=(CRA_USER, PASSWORD))\n",
    "#print(r.text)\n",
    "globaldownloadurilist = []\n",
    "root = xml.etree.ElementTree.fromstring(r.text)\n",
    "for child in root:\n",
    "    if child.tag == 'jobfiles':\n",
    "        for jobchild in child:\n",
    "            if jobchild.tag == 'jobfile':\n",
    "                for downloadchild in jobchild:\n",
    "                    if downloadchild.tag == 'downloadUri':\n",
    "                        for attchild in downloadchild:\n",
    "                            if attchild.tag == 'url':\n",
    "                                #print(attchild.text)\n",
    "                                sys.stdout.write(attchild.text)\n",
    "                                globaldownloadurilist.append(attchild.text)\n",
    "                \n",
    "#print('Download complete.  Run the next cell.',file=sys.stderr)\n",
    "sys.stderr.write('Download complete.  Run the next cell.\\n')"
   ]
  },
  {
   "cell_type": "code",
   "execution_count": 3,
   "metadata": {
    "collapsed": false
   },
   "outputs": [
    {
     "name": "stdout",
     "output_type": "stream",
     "text": [
      "display https://nsgr.sdsc.edu:8443/cipresrest/v1/job/kenneth/NGBW-JOB-NEURON73_TG-7AF604008F314B43A331231E5A94C361/output/36 [Y/y]?n\n",
      "display https://nsgr.sdsc.edu:8443/cipresrest/v1/job/kenneth/NGBW-JOB-NEURON73_TG-7AF604008F314B43A331231E5A94C361/output/37 [Y/y]?n\n",
      "display https://nsgr.sdsc.edu:8443/cipresrest/v1/job/kenneth/NGBW-JOB-NEURON73_TG-7AF604008F314B43A331231E5A94C361/output/40 [Y/y]?n\n",
      "display https://nsgr.sdsc.edu:8443/cipresrest/v1/job/kenneth/NGBW-JOB-NEURON73_TG-7AF604008F314B43A331231E5A94C361/output/39 [Y/y]?n\n",
      "display https://nsgr.sdsc.edu:8443/cipresrest/v1/job/kenneth/NGBW-JOB-NEURON73_TG-7AF604008F314B43A331231E5A94C361/output/38 [Y/y]?n\n"
     ]
    }
   ],
   "source": [
    "#submitoutput.show()\n",
    "#print(submitoutput.stdout)\n",
    "#print(globaldownloadurilist)\n",
    "globaloutputdict = {}\n",
    "for downloaduri in globaldownloadurilist:\n",
    "    r = requests.get(downloaduri, auth=(CRA_USER, PASSWORD), headers=headers)\n",
    "    #print(r.text)\n",
    "    globaloutputdict[downloaduri] = r.text\n",
    "for name in globaloutputdict.keys():\n",
    "    #continue_var = raw_input(\"display %s [Y/y]? \" % name)\n",
    "    if sys.version_info[0] < 3:\n",
    "        continue_var = raw_input(\"display %s [Y/y]?\" % name)\n",
    "    else:\n",
    "        continue_var = input(\"display %s [Y/y]?\" % name)\n",
    "    if continue_var in ['Y','y']:\n",
    "         #print(globaloutputdict[name])\n",
    "         sys.stdout.write(\"%s\\n\" % globaloutputdict[name])   "
   ]
  },
  {
   "cell_type": "code",
   "execution_count": 4,
   "metadata": {
    "collapsed": false
   },
   "outputs": [
    {
     "name": "stderr",
     "output_type": "stream",
     "text": [
      "{'Cache-Control': 'private', 'Date': 'Wed, 19 Oct 2016 23:07:02 GMT', 'Content-Disposition': 'attachment; filename=STDOUT', 'Server': 'Apache-Coyote/1.1', 'Expires': 'Wed, 31 Dec 1969 16:00:00 PST', 'Content-Type': 'text/plain', 'Transfer-Encoding': 'chunked'}\n",
      "STDOUT\n",
      "{'Cache-Control': 'private', 'Date': 'Wed, 19 Oct 2016 23:07:02 GMT', 'Content-Disposition': 'attachment; filename=STDERR', 'Server': 'Apache-Coyote/1.1', 'Expires': 'Wed, 31 Dec 1969 16:00:00 PST', 'Content-Type': 'text/plain', 'Transfer-Encoding': 'chunked'}\n",
      "STDERR\n",
      "{'Cache-Control': 'private', 'Date': 'Wed, 19 Oct 2016 23:07:02 GMT', 'Content-Disposition': 'attachment; filename=scheduler_stderr.txt', 'Server': 'Apache-Coyote/1.1', 'Expires': 'Wed, 31 Dec 1969 16:00:00 PST', 'Content-Type': 'text/plain', 'Transfer-Encoding': 'chunked'}\n",
      "scheduler_stderr.txt\n",
      "{'Cache-Control': 'private', 'Date': 'Wed, 19 Oct 2016 23:07:04 GMT', 'Content-Disposition': 'attachment; filename=scheduler_stdout.txt', 'Server': 'Apache-Coyote/1.1', 'Expires': 'Wed, 31 Dec 1969 16:00:00 PST', 'Content-Type': 'text/plain', 'Transfer-Encoding': 'chunked'}\n",
      "scheduler_stdout.txt\n",
      "{'Cache-Control': 'private', 'Date': 'Wed, 19 Oct 2016 23:07:04 GMT', 'Content-Disposition': 'attachment; filename=output.tar.gz', 'Server': 'Apache-Coyote/1.1', 'Expires': 'Wed, 31 Dec 1969 16:00:00 PST', 'Content-Type': 'text/plain', 'Transfer-Encoding': 'chunked'}\n",
      "output.tar.gz\n"
     ]
    }
   ],
   "source": [
    "#http://stackoverflow.com/questions/31804799/how-to-get-pdf-filename-with-python-requests\n",
    "#downloaduri = 'https://nsgr.sdsc.edu:8443/cipresrest/v1/job/kenneth/NGBW-JOB-NEURON73_TG-650AAA3A8044475580739C88BDF7771D/output/14'\n",
    "for downloaduri in globaldownloadurilist:\n",
    "    r = requests.get(downloaduri, auth=(CRA_USER, PASSWORD), headers=headers)\n",
    "    sys.stderr.write(\"%s\\n\" % r.headers)\n",
    "    import re\n",
    "    d = r.headers['content-disposition']\n",
    "    fname_list = re.findall(\"filename=(.+)\", d)\n",
    "    for fname in fname_list:\n",
    "        sys.stderr.write(\"%s\\n\" % fname)"
   ]
  },
  {
   "cell_type": "code",
   "execution_count": 5,
   "metadata": {
    "collapsed": false
   },
   "outputs": [],
   "source": [
    "# download all output files\n",
    "\n",
    "import re\n",
    "#downloaduri = 'https://cipresrest.sdsc.edu/cipresrest/v1/job/kenneth/NGBW-JOB-RAXMLHPC8_REST_XSEDE-EF0E26B61D2E4C0C8D02499D8068D873/output/11496'\n",
    "for downloaduri in globaldownloadurilist:\n",
    "    r = requests.get(downloaduri, auth=(CRA_USER, PASSWORD), headers=headers)\n",
    "    #sys.stderr.write(\"%s\\n\" % r.json())\n",
    "    #r.content\n",
    "    d = r.headers['content-disposition']\n",
    "    filename_list = re.findall('filename=(.+)', d)\n",
    "    for filename in filename_list:\n",
    "        #http://docs.python-requests.org/en/master/user/quickstart/#raw-response-content\n",
    "        with open(filename, 'wb') as fd:\n",
    "            for chunk in r.iter_content():\n",
    "                fd.write(chunk)"
   ]
  },
  {
   "cell_type": "code",
   "execution_count": 6,
   "metadata": {
    "collapsed": false
   },
   "outputs": [
    {
     "name": "stdout",
     "output_type": "stream",
     "text": [
      "job url: https://nsgr.sdsc.edu:8443/cipresrest/v1/job/kenneth/NGBW-JOB-NEURON73_TG-5FA25D5332B94E51BCA03C0F328CDDBE status terminalStage: true\n",
      "job url: https://nsgr.sdsc.edu:8443/cipresrest/v1/job/kenneth/NGBW-JOB-NEURON73_TG-399DE1916D824A8593A33CBB4BEEB873 status terminalStage: true\n",
      "job url: https://nsgr.sdsc.edu:8443/cipresrest/v1/job/kenneth/NGBW-JOB-NEURON73_TG-BE6C0668FB55447DB0AB7C749832F34A status terminalStage: true\n",
      "job url: https://nsgr.sdsc.edu:8443/cipresrest/v1/job/kenneth/NGBW-JOB-NEURON73_TG-220F7B3C7EE84BC3ADD87346E933ED5E status terminalStage: true\n",
      "job url: https://nsgr.sdsc.edu:8443/cipresrest/v1/job/kenneth/NGBW-JOB-NEURON73_TG-7AF604008F314B43A331231E5A94C361 status terminalStage: true\n"
     ]
    }
   ],
   "source": [
    "# get a list of jobs for user and app key, and terminalStage status\n",
    "\n",
    "r = requests.get(\"%s/job/%s\" % (URL,CRA_USER), auth=(CRA_USER, PASSWORD), headers=headers)\n",
    "#print(r.text)\n",
    "\n",
    "root = xml.etree.ElementTree.fromstring(r.text)\n",
    "for child in root:\n",
    "    if child.tag == 'jobs':\n",
    "        for jobchild in child:\n",
    "            if jobchild.tag == 'jobstatus':\n",
    "                for statuschild in jobchild:\n",
    "                    if statuschild.tag == 'selfUri':\n",
    "                        for selfchild in statuschild:\n",
    "                            if selfchild.tag == 'url':\n",
    "                                #print(child)\n",
    "                                joburi = selfchild.text\n",
    "                                jobr = requests.get(joburi, auth=(CRA_USER, PASSWORD), headers=headers)\n",
    "                                jobroot = xml.etree.ElementTree.fromstring(jobr.text)\n",
    "                                for jobrchild in jobroot:\n",
    "                                    if jobrchild.tag == 'terminalStage':\n",
    "                                        jobstatus = jobrchild.text\n",
    "                                        sys.stdout.write(\"job url: %s status terminalStage: %s\\n\" % (joburi,jobstatus))"
   ]
  },
  {
   "cell_type": "code",
   "execution_count": 7,
   "metadata": {
    "collapsed": false
   },
   "outputs": [
    {
     "name": "stdout",
     "output_type": "stream",
     "text": [
      "<?xml version=\"1.0\" encoding=\"UTF-8\" standalone=\"yes\"?>\n",
      "<jobstatus>\n",
      "    <selfUri>\n",
      "        <url>https://nsgr.sdsc.edu:8443/cipresrest/v1/job/kenneth/NGBW-JOB-NEURON73_TG-220F7B3C7EE84BC3ADD87346E933ED5E</url>\n",
      "        <rel>jobstatus</rel>\n",
      "        <title>NGBW-JOB-NEURON73_TG-220F7B3C7EE84BC3ADD87346E933ED5E</title>\n",
      "    </selfUri>\n",
      "    <jobHandle>NGBW-JOB-NEURON73_TG-220F7B3C7EE84BC3ADD87346E933ED5E</jobHandle>\n",
      "    <jobStage>COMPLETED</jobStage>\n",
      "    <terminalStage>true</terminalStage>\n",
      "    <failed>false</failed>\n",
      "    <metadata>\n",
      "        <entry>\n",
      "            <key>statusEmail</key>\n",
      "            <value>true</value>\n",
      "        </entry>\n",
      "    </metadata>\n",
      "    <dateSubmitted>2016-10-19T15:48:21-07:00</dateSubmitted>\n",
      "    <resultsUri>\n",
      "        <url>https://nsgr.sdsc.edu:8443/cipresrest/v1/job/kenneth/NGBW-JOB-NEURON73_TG-220F7B3C7EE84BC3ADD87346E933ED5E/output</url>\n",
      "        <rel>results</rel>\n",
      "        <title>Job Results</title>\n",
      "    </resultsUri>\n",
      "    <workingDirUri>\n",
      "        <url>https://nsgr.sdsc.edu:8443/cipresrest/v1/job/kenneth/NGBW-JOB-NEURON73_TG-220F7B3C7EE84BC3ADD87346E933ED5E/workingdir</url>\n",
      "        <rel>workingdir</rel>\n",
      "        <title>Job Working Directory</title>\n",
      "    </workingDirUri>\n",
      "    <messages>\n",
      "        <message>\n",
      "            <timestamp>2016-10-19T15:48:21-07:00</timestamp>\n",
      "            <stage>QUEUE</stage>\n",
      "            <text>Added to NSG run queue.</text>\n",
      "        </message>\n",
      "        <message>\n",
      "            <timestamp>2016-10-19T15:48:27-07:00</timestamp>\n",
      "            <stage>COMMANDRENDERING</stage>\n",
      "            <text>Command rendered successfully: inputfile /projects/ps-nsg/home/nsguser/applications/neuron73/nrn/INSTALL/x86_64/bin/nrniv -c TSTOP=1</text>\n",
      "        </message>\n",
      "        <message>\n",
      "            <timestamp>2016-10-19T15:48:28-07:00</timestamp>\n",
      "            <stage>INPUTSTAGING</stage>\n",
      "            <text>Staging input files to comet</text>\n",
      "        </message>\n",
      "        <message>\n",
      "            <timestamp>2016-10-19T15:48:28-07:00</timestamp>\n",
      "            <stage>INPUTSTAGING</stage>\n",
      "            <text>Input files staged successfully to /projects/ps-nsg/home/nsguser/ngbwr/workspace/NGBW-JOB-NEURON73_TG-220F7B3C7EE84BC3ADD87346E933ED5E/</text>\n",
      "        </message>\n",
      "        <message>\n",
      "            <timestamp>2016-10-19T15:48:38-07:00</timestamp>\n",
      "            <stage>SUBMITTED</stage>\n",
      "            <text>Submitted to comet as job '5099639'.</text>\n",
      "        </message>\n",
      "        <message>\n",
      "            <timestamp>2016-10-19T15:51:04-07:00</timestamp>\n",
      "            <stage>LOAD_RESULTS</stage>\n",
      "            <text>Trying to transfer results.</text>\n",
      "        </message>\n",
      "        <message>\n",
      "            <timestamp>2016-10-19T15:51:05-07:00</timestamp>\n",
      "            <stage>COMPLETED</stage>\n",
      "            <text>Output files retrieved.  Task is finished.</text>\n",
      "        </message>\n",
      "    </messages>\n",
      "    <minPollIntervalSeconds>60</minPollIntervalSeconds>\n",
      "</jobstatus>\n",
      "\n"
     ]
    }
   ],
   "source": [
    "# get information for a single job, print out raw XML, need to set joburi according to above list\n",
    "\n",
    "joburi = 'https://nsgr.sdsc.edu:8443/cipresrest/v1/job/kenneth/NGBW-JOB-NEURON73_TG-220F7B3C7EE84BC3ADD87346E933ED5E'\n",
    "r = requests.get(joburi,\n",
    "                 headers= headers, auth=(CRA_USER, PASSWORD))\n",
    "print(r.text)\n"
   ]
  },
  {
   "cell_type": "code",
   "execution_count": 8,
   "metadata": {
    "collapsed": false
   },
   "outputs": [
    {
     "name": "stderr",
     "output_type": "stream",
     "text": [
      "\n"
     ]
    }
   ],
   "source": [
    "# delete an old job, need to set joburi\n",
    "joburi = 'https://nsgr.sdsc.edu:8443/cipresrest/v1/job/kenneth/NGBW-JOB-NEURON73_TG-7AF604008F314B43A331231E5A94C361'\n",
    "r = requests.delete(joburi, auth=(CRA_USER, PASSWORD), headers=headers)\n",
    "sys.stderr.write(\"%s\\n\" % r.text)"
   ]
  },
  {
   "cell_type": "code",
   "execution_count": null,
   "metadata": {
    "collapsed": true
   },
   "outputs": [],
   "source": []
  }
 ],
 "metadata": {
  "kernelspec": {
   "display_name": "Python 3",
   "language": "python",
   "name": "python3"
  },
  "language_info": {
   "codemirror_mode": {
    "name": "ipython",
    "version": 3
   },
   "file_extension": ".py",
   "mimetype": "text/x-python",
   "name": "python",
   "nbconvert_exporter": "python",
   "pygments_lexer": "ipython3",
   "version": "3.4.3"
  }
 },
 "nbformat": 4,
 "nbformat_minor": 0
}
