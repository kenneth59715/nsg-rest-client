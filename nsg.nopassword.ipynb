{
 "cells": [
  {
   "cell_type": "code",
   "execution_count": 1,
   "metadata": {
    "collapsed": true
   },
   "outputs": [],
   "source": [
    "# register at https://nsgr.sdsc.edu:8444/restusers/register.action for username and password\n",
    "CRA_USER = 'changeme'\n",
    "PASSWORD = 'changeme'\n",
    "# log in at https://nsgr.sdsc.edu:8444/restuser/login.action\n",
    "# Tool names can be found at Developer->Documentation (Tools: How to Configure Specific Tools)\n",
    "# create a new application at Developer->Application Management (Create New Application)\n",
    "# save the Application Key for use in REST requests\n",
    "KEY = 'neurontest1-AFD77DA4C0524E0395581CCC37DFF80B'\n",
    "# for development version:\n",
    "URL = 'https://nsgr.sdsc.edu:8444/cipresrest/v1'\n",
    "# for production version:\n",
    "#URL = 'https://nsgr.sdsc.edu:8443/cipresrest/v1'\n",
    "TOOL = 'NEURON73_TG'\n"
   ]
  },
  {
   "cell_type": "code",
   "execution_count": 2,
   "metadata": {
    "collapsed": false,
    "scrolled": false
   },
   "outputs": [
    {
     "name": "stderr",
     "output_type": "stream",
     "text": [
      "<?xml version=\"1.0\" encoding=\"UTF-8\" standalone=\"yes\"?>\n",
      "<jobstatus>\n",
      "    <selfUri>\n",
      "        <url>https://nsgr.sdsc.edu:8444/cipresrest/v1/job/kennethrest/NGBW-JOB-NEURON73_TG-69D3EB3CCA964EC0BFE901742B6F0C31</url>\n",
      "        <rel>jobstatus</rel>\n",
      "        <title>NGBW-JOB-NEURON73_TG-69D3EB3CCA964EC0BFE901742B6F0C31</title>\n",
      "    </selfUri>\n",
      "    <jobHandle>NGBW-JOB-NEURON73_TG-69D3EB3CCA964EC0BFE901742B6F0C31</jobHandle>\n",
      "    <jobStage>QUEUE</jobStage>\n",
      "    <terminalStage>false</terminalStage>\n",
      "    <failed>false</failed>\n",
      "    <metadata>\n",
      "        <entry>\n",
      "            <key>statusEmail</key>\n",
      "            <value>true</value>\n",
      "        </entry>\n",
      "    </metadata>\n",
      "    <dateSubmitted>2016-04-07T17:54:12-07:00</dateSubmitted>\n",
      "    <resultsUri>\n",
      "        <url>https://nsgr.sdsc.edu:8444/cipresrest/v1/job/kennethrest/NGBW-JOB-NEURON73_TG-69D3EB3CCA964EC0BFE901742B6F0C31/output</url>\n",
      "        <rel>results</rel>\n",
      "        <title>Job Results</title>\n",
      "    </resultsUri>\n",
      "    <workingDirUri>\n",
      "        <url>https://nsgr.sdsc.edu:8444/cipresrest/v1/job/kennethrest/NGBW-JOB-NEURON73_TG-69D3EB3CCA964EC0BFE901742B6F0C31/workingdir</url>\n",
      "        <rel>workingdir</rel>\n",
      "        <title>Job Working Directory</title>\n",
      "    </workingDirUri>\n",
      "    <messages>\n",
      "        <message>\n",
      "            <timestamp>2016-04-07T17:54:13-07:00</timestamp>\n",
      "            <stage>QUEUE</stage>\n",
      "            <text>Added to cipres run queue.</text>\n",
      "        </message>\n",
      "    </messages>\n",
      "    <minPollIntervalSeconds>60</minPollIntervalSeconds>\n",
      "</jobstatus>\n",
      "\n",
      "https://nsgr.sdsc.edu:8444/cipresrest/v1/job/kennethrest\n",
      "https://nsgr.sdsc.edu:8444/cipresrest/v1/job/kennethrest/NGBW-JOB-NEURON73_TG-69D3EB3CCA964EC0BFE901742B6F0C31/output\n",
      "https://nsgr.sdsc.edu:8444/cipresrest/v1/job/kennethrest/NGBW-JOB-NEURON73_TG-69D3EB3CCA964EC0BFE901742B6F0C31\n",
      "Waiting for job to complete\n",
      "..............................................................\n",
      "Job completion detected, getting download URIs...Download complete.  Run the next cell.\n"
     ]
    }
   ],
   "source": [
    "%%capture --no-stderr submitoutput\n",
    "\n",
    "import os\n",
    "import requests\n",
    "import xml.etree.ElementTree\n",
    "import time\n",
    "import sys\n",
    "\n",
    "os.popen('pwd').read()\n",
    "os.popen('ls -ltr').read()\n",
    "headers = {'cipres-appkey' : KEY}\n",
    "payload = {'tool' : TOOL, 'metadata.statusEmail' : 'true', 'vparam.number_cores_' : 24, 'vparam.number_nodes_' : 2, 'vparam.runtime_' : 0.5, 'vparam.filename_': 'Batch.hoc', 'vparam.cmdlineopts_': '-c TSTOP=1'}\n",
    "files = {'input.infile_' : open('/home/john/info/nsg/rest/JonesEtAl2009_r31.zip')}\n",
    "#files = {'input.infile_' : data}\n",
    "r = requests.post(\"%s/job/%s\" % (URL, CRA_USER), auth=(CRA_USER, PASSWORD), data=payload, headers=headers, files=files)\n",
    "#print(r.text)\n",
    "\n",
    "root = xml.etree.ElementTree.fromstring(r.text)\n",
    "\n",
    "sys.stderr.write(\"%s\\n\" % r.text)\n",
    "sys.stderr.write(\"%s\\n\" % r.url)\n",
    "\n",
    "for child in root:\n",
    "    if child.tag == 'resultsUri':\n",
    "        for urlchild in child:\n",
    "            if urlchild.tag == 'url':\n",
    "                outputuri = urlchild.text\n",
    "    if child.tag == 'selfUri':\n",
    "        for urlchild in child:\n",
    "            if urlchild.tag == 'url':\n",
    "                selfuri = urlchild.text\n",
    "#print(outputuri,file=sys.stderr)\n",
    "sys.stderr.write(\"%s\\n\" % outputuri)\n",
    "#print(selfuri,file=sys.stderr)\n",
    "sys.stderr.write(\"%s\\n\" % selfuri)\n",
    "\n",
    "headers = {'cipres-appkey' : KEY}\n",
    "\n",
    "#print('Waiting for job to complete',file=sys.stderr)\n",
    "sys.stderr.write('Waiting for job to complete\\n')\n",
    "jobdone = 0\n",
    "while jobdone == 0:\n",
    "    r = requests.get(selfuri, auth=(CRA_USER, PASSWORD), headers=headers)\n",
    "    #print(r.text)\n",
    "    root = xml.etree.ElementTree.fromstring(r.text)\n",
    "    for child in root:\n",
    "        if child.tag == 'terminalStage':\n",
    "            jobstatus = child.text\n",
    "            if jobstatus == 'false':\n",
    "                time.sleep(5)\n",
    "                #print('.',file=sys.stderr,end='')\n",
    "                sys.stderr.write('.')\n",
    "            else:\n",
    "                jobdone = 1\n",
    "                #print('',file=sys.stderr,end='\\n')\n",
    "                sys.stderr.write('\\n')\n",
    "                break\n",
    "\n",
    "#print('Job completion detected, getting download URIs...',file=sys.stderr)\n",
    "sys.stderr.write('Job completion detected, getting download URIs...')\n",
    "r = requests.get(outputuri,\n",
    "                 headers= headers, auth=(CRA_USER, PASSWORD))\n",
    "#print(r.text)\n",
    "globaldownloadurilist = []\n",
    "root = xml.etree.ElementTree.fromstring(r.text)\n",
    "for child in root:\n",
    "    if child.tag == 'jobfiles':\n",
    "        for jobchild in child:\n",
    "            if jobchild.tag == 'jobfile':\n",
    "                for downloadchild in jobchild:\n",
    "                    if downloadchild.tag == 'downloadUri':\n",
    "                        for attchild in downloadchild:\n",
    "                            if attchild.tag == 'url':\n",
    "                                #print(attchild.text)\n",
    "                                sys.stdout.write(attchild.text)\n",
    "                                globaldownloadurilist.append(attchild.text)\n",
    "                \n",
    "#print('Download complete.  Run the next cell.',file=sys.stderr)\n",
    "sys.stderr.write('Download complete.  Run the next cell.\\n')"
   ]
  },
  {
   "cell_type": "code",
   "execution_count": 20,
   "metadata": {
    "collapsed": false
   },
   "outputs": [
    {
     "name": "stdout",
     "output_type": "stream",
     "text": [
      "display https://nsgr.sdsc.edu:8444/cipresrest/v1/job/kennethrest/NGBW-JOB-NEURON73_TG-99E78C2A95DD4F9BA6711CE220C57D9B/output/284 [Y/y]? n\n",
      "display https://nsgr.sdsc.edu:8444/cipresrest/v1/job/kennethrest/NGBW-JOB-NEURON73_TG-99E78C2A95DD4F9BA6711CE220C57D9B/output/285 [Y/y]? n\n",
      "display https://nsgr.sdsc.edu:8444/cipresrest/v1/job/kennethrest/NGBW-JOB-NEURON73_TG-99E78C2A95DD4F9BA6711CE220C57D9B/output/281 [Y/y]? n\n",
      "display https://nsgr.sdsc.edu:8444/cipresrest/v1/job/kennethrest/NGBW-JOB-NEURON73_TG-99E78C2A95DD4F9BA6711CE220C57D9B/output/282 [Y/y]? n\n",
      "display https://nsgr.sdsc.edu:8444/cipresrest/v1/job/kennethrest/NGBW-JOB-NEURON73_TG-99E78C2A95DD4F9BA6711CE220C57D9B/output/283 [Y/y]? n\n"
     ]
    }
   ],
   "source": [
    "#submitoutput.show()\n",
    "#print(submitoutput.stdout)\n",
    "#print(globaldownloadurilist)\n",
    "globaloutputdict = {}\n",
    "for downloaduri in globaldownloadurilist:\n",
    "    r = requests.get(downloaduri, auth=(CRA_USER, PASSWORD), headers=headers)\n",
    "    #print(r.text)\n",
    "    globaloutputdict[downloaduri] = r.text\n",
    "for name in globaloutputdict.keys():\n",
    "    continue_var = raw_input(\"display %s [Y/y]? \" % name)\n",
    "    if continue_var in ['Y','y']:\n",
    "         #print(globaloutputdict[name])\n",
    "         sys.stdout.write(\"%s\\n\" % globaloutputdict[name])   "
   ]
  },
  {
   "cell_type": "code",
   "execution_count": 11,
   "metadata": {
    "collapsed": false
   },
   "outputs": [
    {
     "name": "stderr",
     "output_type": "stream",
     "text": [
      "{'Content-Disposition': 'attachment; filename=STDOUT', 'Transfer-Encoding': 'chunked', 'Expires': 'Wed, 31 Dec 1969 16:00:00 PST', 'Server': 'Apache-Coyote/1.1', 'Cache-Control': 'private', 'Date': 'Thu, 07 Apr 2016 23:36:05 GMT', 'Content-Type': 'text/plain'}\n",
      "STDOUT\n"
     ]
    }
   ],
   "source": [
    "#http://stackoverflow.com/questions/31804799/how-to-get-pdf-filename-with-python-requests\n",
    "downloaduri = 'https://nsgr.sdsc.edu:8444/cipresrest/v1/job/kennethrest/NGBW-JOB-NEURON73_TG-99E78C2A95DD4F9BA6711CE220C57D9B/output/281'\n",
    "r = requests.get(downloaduri, auth=(CRA_USER, PASSWORD), headers=headers)\n",
    "sys.stderr.write(\"%s\\n\" % r.headers)\n",
    "import re\n",
    "d = r.headers['content-disposition']\n",
    "fname_list = re.findall(\"filename=(.+)\", d)\n",
    "for fname in fname_list:\n",
    "    sys.stderr.write(\"%s\\n\" % fname)"
   ]
  },
  {
   "cell_type": "code",
   "execution_count": 14,
   "metadata": {
    "collapsed": false
   },
   "outputs": [],
   "source": [
    "# download all output files\n",
    "\n",
    "import re\n",
    "#downloaduri = 'https://cipresrest.sdsc.edu/cipresrest/v1/job/kenneth/NGBW-JOB-RAXMLHPC8_REST_XSEDE-EF0E26B61D2E4C0C8D02499D8068D873/output/11496'\n",
    "for downloaduri in globaldownloadurilist:\n",
    "    r = requests.get(downloaduri, auth=(CRA_USER, PASSWORD), headers=headers)\n",
    "    #sys.stderr.write(\"%s\\n\" % r.json())\n",
    "    #r.content\n",
    "    d = r.headers['content-disposition']\n",
    "    filename_list = re.findall('filename=(.+)', d)\n",
    "    for filename in filename_list:\n",
    "        #http://docs.python-requests.org/en/master/user/quickstart/#raw-response-content\n",
    "        with open(filename, 'wb') as fd:\n",
    "            for chunk in r.iter_content():\n",
    "                fd.write(chunk)"
   ]
  },
  {
   "cell_type": "code",
   "execution_count": 23,
   "metadata": {
    "collapsed": false
   },
   "outputs": [
    {
     "name": "stdout",
     "output_type": "stream",
     "text": [
      "job url: https://nsgr.sdsc.edu:8444/cipresrest/v1/job/kennethrest/NGBW-JOB-NEURON73_TG-A97FBC66F92447CB8A00921F1310C35D status terminalStage: true\n",
      "job url: https://nsgr.sdsc.edu:8444/cipresrest/v1/job/kennethrest/NGBW-JOB-NEURON73_TG-BDEC62CAC45D485ABFDAFEF3680D42C6 status terminalStage: true\n",
      "job url: https://nsgr.sdsc.edu:8444/cipresrest/v1/job/kennethrest/NGBW-JOB-NEURON73_TG-6ACCB330DD374B25980086CE9E50C65A status terminalStage: true\n",
      "job url: https://nsgr.sdsc.edu:8444/cipresrest/v1/job/kennethrest/NGBW-JOB-NEURON73_TG-0E237A9603E24E43AF982EBC537D8488 status terminalStage: true\n",
      "job url: https://nsgr.sdsc.edu:8444/cipresrest/v1/job/kennethrest/NGBW-JOB-NEURON73_TG-82B87020280346C2ACF61AFFDB5F2F5E status terminalStage: true\n",
      "job url: https://nsgr.sdsc.edu:8444/cipresrest/v1/job/kennethrest/NGBW-JOB-NEURON73_TG-FA69B4C34D4E4C27B8A167567FF0107B status terminalStage: true\n",
      "job url: https://nsgr.sdsc.edu:8444/cipresrest/v1/job/kennethrest/NGBW-JOB-NEURON73_TG-99155EEC39094DF5AAC442A2B83C49AF status terminalStage: true\n",
      "job url: https://nsgr.sdsc.edu:8444/cipresrest/v1/job/kennethrest/NGBW-JOB-NEURON73_TG-A5765664EBD74072A1DC151EA216147E status terminalStage: true\n",
      "job url: https://nsgr.sdsc.edu:8444/cipresrest/v1/job/kennethrest/NGBW-JOB-NEURON73_TG-99E78C2A95DD4F9BA6711CE220C57D9B status terminalStage: true\n"
     ]
    }
   ],
   "source": [
    "# get a list of jobs for user and app key, and terminalStage status\n",
    "\n",
    "r = requests.get(\"%s/job/%s\" % (URL,CRA_USER), auth=(CRA_USER, PASSWORD), headers=headers)\n",
    "#print(r.text)\n",
    "\n",
    "root = xml.etree.ElementTree.fromstring(r.text)\n",
    "for child in root:\n",
    "    if child.tag == 'jobs':\n",
    "        for jobchild in child:\n",
    "            if jobchild.tag == 'jobstatus':\n",
    "                for statuschild in jobchild:\n",
    "                    if statuschild.tag == 'selfUri':\n",
    "                        for selfchild in statuschild:\n",
    "                            if selfchild.tag == 'url':\n",
    "                                #print(child)\n",
    "                                joburi = selfchild.text\n",
    "                                jobr = requests.get(joburi, auth=(CRA_USER, PASSWORD), headers=headers)\n",
    "                                jobroot = xml.etree.ElementTree.fromstring(jobr.text)\n",
    "                                for jobrchild in jobroot:\n",
    "                                    if jobrchild.tag == 'terminalStage':\n",
    "                                        jobstatus = jobrchild.text\n",
    "                                        sys.stdout.write(\"job url: %s status terminalStage: %s\\n\" % (joburi,jobstatus))"
   ]
  },
  {
   "cell_type": "code",
   "execution_count": 19,
   "metadata": {
    "collapsed": false
   },
   "outputs": [
    {
     "name": "stdout",
     "output_type": "stream",
     "text": [
      "<?xml version=\"1.0\" encoding=\"UTF-8\" standalone=\"yes\"?>\n",
      "<jobstatus>\n",
      "    <selfUri>\n",
      "        <url>https://nsgr.sdsc.edu:8444/cipresrest/v1/job/kennethrest/NGBW-JOB-NEURON73_TG-99E78C2A95DD4F9BA6711CE220C57D9B</url>\n",
      "        <rel>jobstatus</rel>\n",
      "        <title>NGBW-JOB-NEURON73_TG-99E78C2A95DD4F9BA6711CE220C57D9B</title>\n",
      "    </selfUri>\n",
      "    <jobHandle>NGBW-JOB-NEURON73_TG-99E78C2A95DD4F9BA6711CE220C57D9B</jobHandle>\n",
      "    <jobStage>COMPLETED</jobStage>\n",
      "    <terminalStage>true</terminalStage>\n",
      "    <failed>false</failed>\n",
      "    <metadata>\n",
      "        <entry>\n",
      "            <key>statusEmail</key>\n",
      "            <value>true</value>\n",
      "        </entry>\n",
      "    </metadata>\n",
      "    <dateSubmitted>2016-04-07T15:37:13-07:00</dateSubmitted>\n",
      "    <resultsUri>\n",
      "        <url>https://nsgr.sdsc.edu:8444/cipresrest/v1/job/kennethrest/NGBW-JOB-NEURON73_TG-99E78C2A95DD4F9BA6711CE220C57D9B/output</url>\n",
      "        <rel>results</rel>\n",
      "        <title>Job Results</title>\n",
      "    </resultsUri>\n",
      "    <workingDirUri>\n",
      "        <url>https://nsgr.sdsc.edu:8444/cipresrest/v1/job/kennethrest/NGBW-JOB-NEURON73_TG-99E78C2A95DD4F9BA6711CE220C57D9B/workingdir</url>\n",
      "        <rel>workingdir</rel>\n",
      "        <title>Job Working Directory</title>\n",
      "    </workingDirUri>\n",
      "    <messages>\n",
      "        <message>\n",
      "            <timestamp>2016-04-07T15:37:14-07:00</timestamp>\n",
      "            <stage>QUEUE</stage>\n",
      "            <text>Added to cipres run queue.</text>\n",
      "        </message>\n",
      "        <message>\n",
      "            <timestamp>2016-04-07T15:37:19-07:00</timestamp>\n",
      "            <stage>COMMANDRENDERING</stage>\n",
      "            <text>Command rendered successfully: inputfile /projects/ps-nsg/home/nsguser/applications/neuron73/nrn/INSTALL/x86_64/bin/nrniv -c TSTOP=1</text>\n",
      "        </message>\n",
      "        <message>\n",
      "            <timestamp>2016-04-07T15:37:19-07:00</timestamp>\n",
      "            <stage>INPUTSTAGING</stage>\n",
      "            <text>Staging input files to comet</text>\n",
      "        </message>\n",
      "        <message>\n",
      "            <timestamp>2016-04-07T15:37:19-07:00</timestamp>\n",
      "            <stage>INPUTSTAGING</stage>\n",
      "            <text>Input files staged successfully to /projects/ps-nsg/home/nsguser/ngbwdev/workspace/NGBW-JOB-NEURON73_TG-99E78C2A95DD4F9BA6711CE220C57D9B/</text>\n",
      "        </message>\n",
      "        <message>\n",
      "            <timestamp>2016-04-07T15:37:36-07:00</timestamp>\n",
      "            <stage>SUBMITTED</stage>\n",
      "            <text>Submitted to comet as job '2103337'.</text>\n",
      "        </message>\n",
      "        <message>\n",
      "            <timestamp>2016-04-07T15:59:48-07:00</timestamp>\n",
      "            <stage>LOAD_RESULTS</stage>\n",
      "            <text>Trying to transfer results.</text>\n",
      "        </message>\n",
      "        <message>\n",
      "            <timestamp>2016-04-07T15:59:50-07:00</timestamp>\n",
      "            <stage>COMPLETED</stage>\n",
      "            <text>Output files retrieved.  Task is finished.</text>\n",
      "        </message>\n",
      "    </messages>\n",
      "    <minPollIntervalSeconds>60</minPollIntervalSeconds>\n",
      "</jobstatus>\n",
      "\n"
     ]
    }
   ],
   "source": [
    "# get information for a single job, print out raw XML\n",
    "\n",
    "r = requests.get('https://nsgr.sdsc.edu:8444/cipresrest/v1/job/kennethrest/NGBW-JOB-NEURON73_TG-99E78C2A95DD4F9BA6711CE220C57D9B',\n",
    "                 headers= headers, auth=(CRA_USER, PASSWORD))\n",
    "print(r.text)\n"
   ]
  },
  {
   "cell_type": "code",
   "execution_count": 22,
   "metadata": {
    "collapsed": false
   },
   "outputs": [
    {
     "name": "stderr",
     "output_type": "stream",
     "text": [
      "\n"
     ]
    }
   ],
   "source": [
    "# delete an old job\n",
    "r = requests.delete('https://nsgr.sdsc.edu:8444/cipresrest/v1/job/kennethrest/NGBW-JOB-NEURON73_TG-E3594B6A48BF414FB20EA5B022350F19', auth=(CRA_USER, PASSWORD), headers=headers)\n",
    "sys.stderr.write(\"%s\\n\" % r.text)"
   ]
  },
  {
   "cell_type": "code",
   "execution_count": null,
   "metadata": {
    "collapsed": true
   },
   "outputs": [],
   "source": []
  }
 ],
 "metadata": {
  "kernelspec": {
   "display_name": "Python 2",
   "language": "python",
   "name": "python2"
  },
  "language_info": {
   "codemirror_mode": {
    "name": "ipython",
    "version": 2
   },
   "file_extension": ".py",
   "mimetype": "text/x-python",
   "name": "python",
   "nbconvert_exporter": "python",
   "pygments_lexer": "ipython2",
   "version": "2.7.3"
  }
 },
 "nbformat": 4,
 "nbformat_minor": 0
}
